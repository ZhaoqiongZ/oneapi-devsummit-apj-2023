{
 "cells": [
  {
   "cell_type": "markdown",
   "id": "ca6d92e7-10aa-44db-8957-e25901a96792",
   "metadata": {},
   "source": [
    "## Stable Diffusion on SPR with IPEX"
   ]
  },
  {
   "cell_type": "markdown",
   "id": "6f3fdf55-0df7-4964-ac04-16dc31cfe5dd",
   "metadata": {},
   "source": [
    "This is a demo of [Stable Diffusion with the Hugging Face API](https://huggingface.co/stabilityai), and using the [Intel Extension for PyTorch](https://github.com/intel/intel-extension-for-pytorch) (IPEX) to optimize the model pipeline on Intel's 4th generation Xeon platform.\n",
    "\n",
    "The demo consists of the following steps:\n",
    "\n",
    "1. Load and define the core SD model components from HF.\n",
    "2. Set up and run a standard SD pipeline with the HF API, i.e., generate a FP32 precision image.\n",
    "3. Optimize SD with IPEX, using Auto Mixed Precision (BF16), and run the pipeline again.\n",
    "4. Compare the results wrt inference latency time.\n",
    "5. Run batched inference with the optimized SD pipeline."
   ]
  },
  {
   "cell_type": "markdown",
   "id": "16a85e09-aa28-4d3f-9357-e8f8e58e88dc",
   "metadata": {},
   "source": [
    "**This demo is executed in a Conda\\* environment.**\n",
    "\n",
    "The environment is the latest [Intel® oneAPI AI Analytics Toolkit](https://software.intel.com/content/www/us/en/develop/tools/oneapi/ai-analytics-toolkit.html) PyTorch* environment, which includes Intel® Optimizations for deep learning workflows. See [here](https://software.intel.com/content/www/us/en/develop/articles/installing-ai-kit-with-conda.html) for more installation information."
   ]
  },
  {
   "cell_type": "markdown",
   "id": "063d10c3-6463-444d-9e03-e1f697987761",
   "metadata": {},
   "source": [
    "If not yet installed, please make sure to uncomment the following line in order to install Diffusers, Transformers, and update Torch and IPEX."
   ]
  },
  {
   "cell_type": "code",
   "execution_count": 1,
   "id": "b830f3d8-8fee-4bca-97a2-92247b00a1e8",
   "metadata": {},
   "outputs": [],
   "source": [
    "# ! pip install -U diffusers transformers torch intel_extension_for_pytorch"
   ]
  },
  {
   "cell_type": "code",
   "execution_count": 2,
   "id": "7ebf84a4-42f9-4c8d-ae63-f209cac19a78",
   "metadata": {},
   "outputs": [],
   "source": [
    "import torch\n",
    "\n",
    "from diffusers import AutoencoderKL, DDPMScheduler, PNDMScheduler, StableDiffusionPipeline, UNet2DConditionModel\n",
    "from diffusers.optimization import get_scheduler\n",
    "from diffusers.pipelines.stable_diffusion import StableDiffusionSafetyChecker\n",
    "\n",
    "from transformers import CLIPFeatureExtractor, CLIPTextModel, CLIPTokenizer\n",
    "\n",
    "import matplotlib.pyplot as plt\n",
    "\n",
    "import time"
   ]
  },
  {
   "cell_type": "markdown",
   "id": "ef5a1a96-d9e9-4320-8797-0492900b9d25",
   "metadata": {},
   "source": [
    "Also, we need to register the usage of SD with our personal HF API token. Please paste your token either directly in the cell, or load it from a file. "
   ]
  },
  {
   "cell_type": "code",
   "execution_count": 3,
   "id": "eba43447-9020-416a-a22f-88d9ed50fcbb",
   "metadata": {},
   "outputs": [],
   "source": [
    "# My token\n",
    "# MY_TOKEN = 'my_hf_api_token'\n",
    "with open('hf_api.txt') as f:\n",
    "    MY_TOKEN=f.read()"
   ]
  },
  {
   "cell_type": "markdown",
   "id": "b3c36b4e-374a-4dd0-b604-9f47d9ed0e2c",
   "metadata": {},
   "source": [
    "Please uncomment the following line if verbose oneDNN logging is wanted."
   ]
  },
  {
   "cell_type": "code",
   "execution_count": 4,
   "id": "e1f14327-4a47-4c5d-a876-5f700f9bf33d",
   "metadata": {},
   "outputs": [],
   "source": [
    "# %env ONEDNN_VERBOSE=1"
   ]
  },
  {
   "cell_type": "markdown",
   "id": "6a624547-859c-40b1-b224-9fa61435e37b",
   "metadata": {},
   "source": [
    "Next, we load the various pretrained SD model core components from the HF hub:\n",
    "- The CLIP text tokenizer.\n",
    "- The CLIP text encoder.\n",
    "- The UNET.\n",
    "- And the Autoencoder."
   ]
  },
  {
   "cell_type": "code",
   "execution_count": 5,
   "id": "3b7f741b-bc0e-4d5b-a038-a8118257890a",
   "metadata": {},
   "outputs": [
    {
     "name": "stderr",
     "output_type": "stream",
     "text": [
      "Cannot initialize model with low cpu memory usage because `accelerate` was not found in the environment. Defaulting to `low_cpu_mem_usage=False`. It is strongly recommended to install `accelerate` for faster and less memory-intense model loading. You can do so with: \n",
      "```\n",
      "pip install accelerate\n",
      "```\n",
      ".\n",
      "Cannot initialize model with low cpu memory usage because `accelerate` was not found in the environment. Defaulting to `low_cpu_mem_usage=False`. It is strongly recommended to install `accelerate` for faster and less memory-intense model loading. You can do so with: \n",
      "```\n",
      "pip install accelerate\n",
      "```\n",
      ".\n"
     ]
    }
   ],
   "source": [
    "# Load models and create wrapper for stable diffusion\n",
    "tokenizer = CLIPTokenizer.from_pretrained(\"CompVis/stable-diffusion-v1-4\", subfolder=\"tokenizer\", use_auth_token=MY_TOKEN)\n",
    "text_encoder = CLIPTextModel.from_pretrained(\"CompVis/stable-diffusion-v1-4\", subfolder=\"text_encoder\", use_auth_token=MY_TOKEN)\n",
    "unet = UNet2DConditionModel.from_pretrained(\"CompVis/stable-diffusion-v1-4\", subfolder=\"unet\", use_auth_token=MY_TOKEN)\n",
    "vae = AutoencoderKL.from_pretrained(\"CompVis/stable-diffusion-v1-4\", subfolder=\"vae\", use_auth_token=MY_TOKEN)"
   ]
  },
  {
   "cell_type": "markdown",
   "id": "28c64c36-bae5-4877-8020-b0c349fbc998",
   "metadata": {},
   "source": [
    "Next, we construct the SD pipeline with the HF API. For different performances, experiment, e.g., with the scheduler, and its parameters."
   ]
  },
  {
   "cell_type": "code",
   "execution_count": 6,
   "id": "68275cc2-9cd2-4f18-8766-04baf19ada5d",
   "metadata": {},
   "outputs": [
    {
     "name": "stderr",
     "output_type": "stream",
     "text": [
      "/home/sdp/anaconda3/envs/sd/lib/python3.9/site-packages/diffusers/pipelines/stable_diffusion/pipeline_stable_diffusion.py:101: FutureWarning: The configuration file of this scheduler: PNDMScheduler {\n",
      "  \"_class_name\": \"PNDMScheduler\",\n",
      "  \"_diffusers_version\": \"0.11.1\",\n",
      "  \"beta_end\": 0.012,\n",
      "  \"beta_schedule\": \"scaled_linear\",\n",
      "  \"beta_start\": 0.00085,\n",
      "  \"num_train_timesteps\": 1000,\n",
      "  \"prediction_type\": \"epsilon\",\n",
      "  \"set_alpha_to_one\": false,\n",
      "  \"skip_prk_steps\": true,\n",
      "  \"steps_offset\": 0,\n",
      "  \"trained_betas\": null\n",
      "}\n",
      " is outdated. `steps_offset` should be set to 1 instead of 0. Please make sure to update the config accordingly as leaving `steps_offset` might led to incorrect results in future versions. If you have downloaded this checkpoint from the Hugging Face Hub, it would be very nice if you could open a Pull request for the `scheduler/scheduler_config.json` file\n",
      "  deprecate(\"steps_offset!=1\", \"1.0.0\", deprecation_message, standard_warn=False)\n"
     ]
    }
   ],
   "source": [
    "pipeline = StableDiffusionPipeline(\n",
    "    text_encoder=text_encoder,\n",
    "    vae=vae,\n",
    "    unet=unet,\n",
    "    tokenizer=tokenizer,\n",
    "    scheduler=PNDMScheduler(beta_start=0.00085, \n",
    "                            beta_end=0.012, \n",
    "                            beta_schedule=\"scaled_linear\", \n",
    "                            skip_prk_steps=True),\n",
    "    safety_checker=StableDiffusionSafetyChecker.from_pretrained(\"CompVis/stable-diffusion-safety-checker\"),\n",
    "    feature_extractor=CLIPFeatureExtractor.from_pretrained(\"openai/clip-vit-base-patch32\"))"
   ]
  },
  {
   "cell_type": "markdown",
   "id": "9e4d8984-0383-4479-93f9-406ed48b6c80",
   "metadata": {},
   "source": [
    "**Single image inference**\n",
    "\n",
    "Then, we call the pipeline with a written description of the wanted image, i.e., the text prompt. And generate an image.\n",
    "\n",
    "The inference process can be made deterministic by setting the generator seed. Furthermore, through the number of inference steps, we can govern the quality of the image, i.e., more steps equals better quality. Reduce the number of steps to receive results faster.\n",
    "\n",
    "Please experiment with your own prompts!"
   ]
  },
  {
   "cell_type": "code",
   "execution_count": 7,
   "id": "59b1f7ca-facb-44a6-8761-c206c4c5dd12",
   "metadata": {},
   "outputs": [
    {
     "data": {
      "application/vnd.jupyter.widget-view+json": {
       "model_id": "ecaee81f71e04a7dbef0592ce3313a10",
       "version_major": 2,
       "version_minor": 0
      },
      "text/plain": [
       "  0%|          | 0/50 [00:00<?, ?it/s]"
      ]
     },
     "metadata": {},
     "output_type": "display_data"
    },
    {
     "name": "stdout",
     "output_type": "stream",
     "text": [
      "Generating one FP32 image took 118.48s\n"
     ]
    }
   ],
   "source": [
    "prompt = \"Painting of a frog with hat on a bicycle cycling in New York City at a beautiful dusk with a traffic jam and moody people in the style of Picasso\"\n",
    "\n",
    "# Setting seed for deterministic output\n",
    "generator = torch.Generator(\"cpu\").manual_seed(7777)\n",
    "\n",
    "# Simple timing of inference\n",
    "start = time.time()\n",
    "image = pipeline(prompt, num_inference_steps=50, generator=generator).images[0]\n",
    "end = time.time()\n",
    "sd_fp32_t = end-start\n",
    "print(f\"Generating one FP32 image took {round(sd_fp32_t, 2)}s\")\n",
    "\n",
    "image.save(\"frog_test_FP32.png\")"
   ]
  },
  {
   "cell_type": "markdown",
   "id": "c5eeb3e0-e692-43d5-9a81-a8feccc439c3",
   "metadata": {},
   "source": [
    "**Optimization with IPEX**\n",
    "\n",
    "The UNET component of the model architecture is the one that uses most computational resources in the inference process. Hence, with IPEX, we optimize it, and put it in BF16 precision.\n",
    "Please note: Experiment also with the optimization of the text encoder."
   ]
  },
  {
   "cell_type": "code",
   "execution_count": 8,
   "id": "27a11ec4-f683-4668-87d4-19db9ba0b633",
   "metadata": {},
   "outputs": [
    {
     "name": "stderr",
     "output_type": "stream",
     "text": [
      "/home/sdp/anaconda3/envs/sd/lib/python3.9/site-packages/intel_extension_for_pytorch/frontend.py:396: UserWarning: Conv BatchNorm folding failed during the optimize process.\n",
      "  warnings.warn(\"Conv BatchNorm folding failed during the optimize process.\")\n",
      "/home/sdp/anaconda3/envs/sd/lib/python3.9/site-packages/intel_extension_for_pytorch/frontend.py:401: UserWarning: Linear BatchNorm folding failed during the optimize process.\n",
      "  warnings.warn(\"Linear BatchNorm folding failed during the optimize process.\")\n"
     ]
    }
   ],
   "source": [
    "import intel_extension_for_pytorch as ipex\n",
    "\n",
    "# Put model in eval mode.\n",
    "unet.eval()\n",
    "# text_encoder.eval()\n",
    "\n",
    "# Optimize the model w/ IPEX\n",
    "unet = ipex.optimize(unet, dtype=torch.bfloat16)\n",
    "# text_encoder = ipex.optimize(text_encoder, dtype=torch.bfloat16)"
   ]
  },
  {
   "cell_type": "code",
   "execution_count": 9,
   "id": "0fdb9cc8-6bee-4ad9-af56-255bb55eb2b3",
   "metadata": {},
   "outputs": [],
   "source": [
    "pipeline = StableDiffusionPipeline(\n",
    "    text_encoder=text_encoder,\n",
    "    vae=vae,\n",
    "    unet=unet,\n",
    "    tokenizer=tokenizer,\n",
    "    scheduler=PNDMScheduler(beta_start=0.00085, \n",
    "                            beta_end=0.012, \n",
    "                            beta_schedule=\"scaled_linear\", \n",
    "                            skip_prk_steps=True),\n",
    "    safety_checker=StableDiffusionSafetyChecker.from_pretrained(\"CompVis/stable-diffusion-safety-checker\"),\n",
    "    feature_extractor=CLIPFeatureExtractor.from_pretrained(\"openai/clip-vit-base-patch32\"))"
   ]
  },
  {
   "cell_type": "code",
   "execution_count": 10,
   "id": "5e520b3e-2260-4182-bf1f-f13e72953696",
   "metadata": {},
   "outputs": [
    {
     "data": {
      "application/vnd.jupyter.widget-view+json": {
       "model_id": "5de6fd73f63149c4857f5dbacc6eb7ac",
       "version_major": 2,
       "version_minor": 0
      },
      "text/plain": [
       "  0%|          | 0/50 [00:00<?, ?it/s]"
      ]
     },
     "metadata": {},
     "output_type": "display_data"
    },
    {
     "name": "stderr",
     "output_type": "stream",
     "text": [
      "[W LegacyTypeDispatch.h:74] Warning: AutoNonVariableTypeMode is deprecated and will be removed in 1.10 release. For kernel implementations please use AutoDispatchBelowADInplaceOrView instead, If you are looking for a user facing API to enable running your inference-only workload, please use c10::InferenceMode. Using AutoDispatchBelowADInplaceOrView in user code is under risk of producing silent wrong result in some edge cases. See Note [AutoDispatchBelowAutograd] for more details. (function operator())\n"
     ]
    },
    {
     "name": "stdout",
     "output_type": "stream",
     "text": [
      "Generating one BF16 image took 38.61s\n"
     ]
    }
   ],
   "source": [
    "prompt = \"Painting of a frog with hat on a bicycle cycling in New York City at a beautiful dusk with a traffic jam and moody people in the style of Picasso\"\n",
    "\n",
    "# Setting seed for deterministic output\n",
    "generator = torch.Generator(\"cpu\").manual_seed(7777)\n",
    "\n",
    "# Simple timing of inference\n",
    "start = time.time()\n",
    "with torch.cpu.amp.autocast():\n",
    "    image = pipeline(prompt, num_inference_steps=50, generator=generator).images[0]\n",
    "end = time.time()\n",
    "sd_bf16_t = end-start\n",
    "print(f\"Generating one BF16 image took {round(sd_bf16_t, 2)}s\")\n",
    "\n",
    "image.save(\"frog_test_BF16.png\")"
   ]
  },
  {
   "cell_type": "markdown",
   "id": "66231297-c716-46ea-8214-6f670513ed0b",
   "metadata": {},
   "source": [
    "We compare the inference speeds between the two runs."
   ]
  },
  {
   "cell_type": "code",
   "execution_count": 11,
   "id": "3c41ce36-c71a-4bb0-9c0b-338957fe9fc6",
   "metadata": {},
   "outputs": [
    {
     "name": "stdout",
     "output_type": "stream",
     "text": [
      "Inference with IPEX, using AMP+BF16, was 3.07x faster.\n"
     ]
    }
   ],
   "source": [
    "print(f\"Inference with IPEX, using AMP+BF16, was {round(sd_fp32_t/sd_bf16_t, 2)}x faster.\")"
   ]
  },
  {
   "cell_type": "code",
   "execution_count": 12,
   "id": "d694f007-b3f0-4e50-b1d0-e37cb65ceb3b",
   "metadata": {},
   "outputs": [],
   "source": [
    "def plotter(outputdict):\n",
    "    fig = plt.figure(figsize = (10, 5)) \n",
    "    plt.bar(outputdict.keys(),outputdict.values(),color=['black', '#0071c5'],width=0.4)\n",
    "    plt.xlabel(\"Model\")\n",
    "    plt.ylabel(\"Eval inference (seconds); lower is better\")\n",
    "    plt.show()"
   ]
  },
  {
   "cell_type": "code",
   "execution_count": 13,
   "id": "e47de3d4-d205-45ac-8856-5b7ba6aba757",
   "metadata": {},
   "outputs": [
    {
     "data": {
      "image/png": "[encoded data removed]",
      "text/plain": [
       "<Figure size 1000x500 with 1 Axes>"
      ]
     },
     "metadata": {},
     "output_type": "display_data"
    }
   ],
   "source": [
    "outputDict={\"Full-precision\":sd_fp32_t,\"AMP (BF16)\":sd_bf16_t}\n",
    "plotter(outputDict)"
   ]
  },
  {
   "cell_type": "markdown",
   "id": "aef7f3cd-7c82-4e67-bc76-45fb122b7509",
   "metadata": {},
   "source": [
    "**Batched inference**\n",
    "\n",
    "Finally, we generate a batch of 3 images, and compare the performance."
   ]
  },
  {
   "cell_type": "code",
   "execution_count": 14,
   "id": "de81bf81-a43c-486b-b8d6-c611fdd1c262",
   "metadata": {},
   "outputs": [],
   "source": [
    "from PIL import Image\n",
    "\n",
    "def image_grid(imgs, rows, cols):\n",
    "    assert len(imgs) == rows*cols\n",
    "\n",
    "    w, h = imgs[0].size\n",
    "    grid = Image.new('RGB', size=(cols*w, rows*h))\n",
    "    grid_w, grid_h = grid.size\n",
    "    \n",
    "    for i, img in enumerate(imgs):\n",
    "        grid.paste(img, box=(i%cols*w, i//cols*h))\n",
    "    return grid"
   ]
  },
  {
   "cell_type": "code",
   "execution_count": 15,
   "id": "b9aae9e2-7ba3-40b1-ae75-a83de45fa897",
   "metadata": {},
   "outputs": [
    {
     "data": {
      "application/vnd.jupyter.widget-view+json": {
       "model_id": "bc3e12ba30c04460bddf2fa838f2c191",
       "version_major": 2,
       "version_minor": 0
      },
      "text/plain": [
       "  0%|          | 0/50 [00:00<?, ?it/s]"
      ]
     },
     "metadata": {},
     "output_type": "display_data"
    },
    {
     "name": "stdout",
     "output_type": "stream",
     "text": [
      "Generating 3 BF16 images took 129.0s. Per image inference time: 43.0s.\n"
     ]
    }
   ],
   "source": [
    "num_images = 3\n",
    "\n",
    "prompt = [\"Painting of a frog with hat on a bicycle cycling in New York City at a beautiful dusk with a traffic jam and moody people in the style of Picasso\"] * num_images\n",
    "\n",
    "start = time.time()\n",
    "with torch.cpu.amp.autocast():\n",
    "    images = pipeline(prompt, num_inference_steps=50).images\n",
    "end = time.time()\n",
    "sd_bbf16_t = end-start\n",
    "print(f\"Generating {num_images} BF16 images took {round(sd_bbf16_t, 2)}s. Per image inference time: {round(sd_bbf16_t/num_images, 2)}s.\")\n",
    "\n",
    "grid = image_grid(images, rows=1, cols=3)\n",
    "\n",
    "grid.save(f\"frog_batch.png\")"
   ]
  }
 ],
 "metadata": {
  "kernelspec": {
   "display_name": "Python 3 (ipykernel)",
   "language": "python",
   "name": "python3"
  },
  "language_info": {
   "codemirror_mode": {
    "name": "ipython",
    "version": 3
   },
   "file_extension": ".py",
   "mimetype": "text/x-python",
   "name": "python",
   "nbconvert_exporter": "python",
   "pygments_lexer": "ipython3",
   "version": "3.9.16"
  }
 },
 "nbformat": 4,
 "nbformat_minor": 5
}
